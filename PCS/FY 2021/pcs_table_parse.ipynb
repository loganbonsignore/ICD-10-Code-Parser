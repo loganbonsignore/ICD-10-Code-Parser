{
 "cells": [
  {
   "cell_type": "code",
   "execution_count": 23,
   "metadata": {},
   "outputs": [],
   "source": [
    "# Begin query\n",
    "import json\n",
    "from pprint import pprint # Used for debugging\n",
    "\n",
    "# Creating memory allocation to PSC Index json file\n",
    "with open(\"Data/JSON/PCS_Tables.json\") as tables_file:\n",
    "    PCS_tables = json.load(tables_file)\n",
    "    \n",
    "# Aggregating tables into one list\n",
    "tables = [table for table in PCS_tables[\"ICD10PCS.tabular\"][\"pcsTable\"]]"
   ]
  },
  {
   "cell_type": "code",
   "execution_count": 51,
   "metadata": {},
   "outputs": [],
   "source": [
    "# Class definition\n",
    "# Find the correct PCS table and return table object\n",
    "# Query PCS table object to find codes, descriptions, etc\n",
    "class PCS_Table:\n",
    "    def __init__(self):\n",
    "        pass\n",
    "    \n",
    "    def find_table(self, tab_codes: str) -> dict:\n",
    "        # This method returns an object containing a PCS table whose pos 1,2,3 codes match what is passed as arguement\n",
    "        # This method only works when 3 codes are provided in tab_codes\n",
    "        found = False # Flag used to determine if table found\n",
    "        # Ensure all individual codes inside tab_codes are capitalized\n",
    "        tab_codes = tab_codes.upper()\n",
    "        for table in tables:\n",
    "            # Extract pos 1,2,3 codes and join codes together\n",
    "            code = \"\".join((tab_code[\"label\"][0][\"_code\"] for tab_code in table[\"axis\"]))\n",
    "            # Find matching table object\n",
    "            if code == tab_codes:\n",
    "                found = True\n",
    "                return table\n",
    "        # If did not find a match, raise error\n",
    "        if not found:\n",
    "            raise LookupError(f\"Did not find matching table to '{tab_codes}'. Must include code values for pos 1,2,3 of the PCS table you are looking for. Be sure to not mistake a '0', for 'O'.\")\n"
   ]
  },
  {
   "cell_type": "markdown",
   "metadata": {},
   "source": [
    "### Notes\n",
    "\n",
    "* \"axis\" and \"pcsRow\" keys contain lists of code, text and definitions\n",
    "\n",
    "* Table \"axis\" keys return two key structures\n",
    "    * {\"title\", \"label\", \"_pos\", \"_values\"}\n",
    "    * {\"title\", \"label\", \"definition\", \"_pos\", \"_values\"}\n",
    "* \"pcsRow\" keys return _ key structures\n",
    "    * "
   ]
  },
  {
   "cell_type": "code",
   "execution_count": 43,
   "metadata": {},
   "outputs": [],
   "source": [
    "test = '0b4AA'"
   ]
  },
  {
   "cell_type": "code",
   "execution_count": 45,
   "metadata": {},
   "outputs": [
    {
     "data": {
      "text/plain": [
       "'0b4A'"
      ]
     },
     "execution_count": 45,
     "metadata": {},
     "output_type": "execute_result"
    }
   ],
   "source": [
    "test[:4]"
   ]
  },
  {
   "cell_type": "code",
   "execution_count": 54,
   "metadata": {},
   "outputs": [
    {
     "name": "stdout",
     "output_type": "stream",
     "text": [
      "{'axis': [{'_pos': '1',\n",
      "           '_values': '1',\n",
      "           'label': [{'__text': 'Medical and Surgical', '_code': '0'}],\n",
      "           'title': 'Section'},\n",
      "          {'_pos': '2',\n",
      "           '_values': '1',\n",
      "           'label': [{'__text': 'Anatomical Regions, Upper Extremities',\n",
      "                      '_code': 'X'}],\n",
      "           'title': 'Body System'},\n",
      "          {'_pos': '3',\n",
      "           '_values': '1',\n",
      "           'definition': 'Putting in or on all or a portion of a living body '\n",
      "                         'part taken from another individual or animal to '\n",
      "                         'physically take the place and/or function of all or '\n",
      "                         'a portion of a similar body part',\n",
      "           'label': [{'__text': 'Transplantation', '_code': 'Y'}],\n",
      "           'title': 'Operation'}],\n",
      " 'pcsRow': [{'_codes': '4',\n",
      "             'axis': [{'_pos': '4',\n",
      "                       '_values': '2',\n",
      "                       'label': [{'__text': 'Hand, Right', '_code': 'J'},\n",
      "                                 {'__text': 'Hand, Left', '_code': 'K'}],\n",
      "                       'title': 'Body Part'},\n",
      "                      {'_pos': '5',\n",
      "                       '_values': '1',\n",
      "                       'label': [{'__text': 'Open', '_code': '0'}],\n",
      "                       'title': 'Approach'},\n",
      "                      {'_pos': '6',\n",
      "                       '_values': '1',\n",
      "                       'label': [{'__text': 'No Device', '_code': 'Z'}],\n",
      "                       'title': 'Device'},\n",
      "                      {'_pos': '7',\n",
      "                       '_values': '2',\n",
      "                       'label': [{'__text': 'Allogeneic', '_code': '0'},\n",
      "                                 {'__text': 'Syngeneic', '_code': '1'}],\n",
      "                       'title': 'Qualifier'}]}]}\n"
     ]
    }
   ],
   "source": [
    "query_tool = PCS_Table()\n",
    "table_object = query_tool.find_table(\"0XY\")\n",
    "pprint(table_object)"
   ]
  },
  {
   "cell_type": "code",
   "execution_count": 12,
   "metadata": {},
   "outputs": [
    {
     "name": "stdout",
     "output_type": "stream",
     "text": [
      "[{'_code': '0', '__text': 'Medical and Surgical'}]\n",
      "[{'_code': '0', '__text': 'Central Nervous System and Cranial Nerves'}]\n",
      "[{'_code': '1', '__text': 'Bypass'}]\n"
     ]
    }
   ],
   "source": [
    "for tab_code in tables[0][\"axis\"]:\n",
    "    print(tab_code[\"label\"])"
   ]
  },
  {
   "cell_type": "code",
   "execution_count": null,
   "metadata": {},
   "outputs": [],
   "source": []
  },
  {
   "cell_type": "code",
   "execution_count": null,
   "metadata": {},
   "outputs": [],
   "source": []
  },
  {
   "cell_type": "code",
   "execution_count": null,
   "metadata": {},
   "outputs": [],
   "source": []
  },
  {
   "cell_type": "code",
   "execution_count": 6,
   "metadata": {},
   "outputs": [
    {
     "name": "stdout",
     "output_type": "stream",
     "text": [
      "[{'_codes': '99',\n",
      "  'axis': [{'_pos': '4',\n",
      "            '_values': '1',\n",
      "            'label': [{'__text': 'Cerebral Ventricle', '_code': '6'}],\n",
      "            'title': 'Body Part'},\n",
      "           {'_pos': '5',\n",
      "            '_values': '3',\n",
      "            'label': [{'__text': 'Open', '_code': '0'},\n",
      "                      {'__text': 'Percutaneous', '_code': '3'},\n",
      "                      {'__text': 'Percutaneous Endoscopic', '_code': '4'}],\n",
      "            'title': 'Approach'},\n",
      "           {'_pos': '6',\n",
      "            '_values': '3',\n",
      "            'label': [{'__text': 'Autologous Tissue Substitute', '_code': '7'},\n",
      "                      {'__text': 'Synthetic Substitute', '_code': 'J'},\n",
      "                      {'__text': 'Nonautologous Tissue Substitute',\n",
      "                       '_code': 'K'}],\n",
      "            'title': 'Device'},\n",
      "           {'_pos': '7',\n",
      "            '_values': '11',\n",
      "            'label': [{'__text': 'Nasopharynx', '_code': '0'},\n",
      "                      {'__text': 'Mastoid Sinus', '_code': '1'},\n",
      "                      {'__text': 'Atrium', '_code': '2'},\n",
      "                      {'__text': 'Blood Vessel', '_code': '3'},\n",
      "                      {'__text': 'Pleural Cavity', '_code': '4'},\n",
      "                      {'__text': 'Intestine', '_code': '5'},\n",
      "                      {'__text': 'Peritoneal Cavity', '_code': '6'},\n",
      "                      {'__text': 'Urinary Tract', '_code': '7'},\n",
      "                      {'__text': 'Bone Marrow', '_code': '8'},\n",
      "                      {'__text': 'Subgaleal Space', '_code': 'A'},\n",
      "                      {'__text': 'Cerebral Cisterns', '_code': 'B'}],\n",
      "            'title': 'Qualifier'}]},\n",
      " {'_codes': '3',\n",
      "  'axis': [{'_pos': '4',\n",
      "            '_values': '1',\n",
      "            'label': [{'__text': 'Cerebral Ventricle', '_code': '6'}],\n",
      "            'title': 'Body Part'},\n",
      "           {'_pos': '5',\n",
      "            '_values': '3',\n",
      "            'label': [{'__text': 'Open', '_code': '0'},\n",
      "                      {'__text': 'Percutaneous', '_code': '3'},\n",
      "                      {'__text': 'Percutaneous Endoscopic', '_code': '4'}],\n",
      "            'title': 'Approach'},\n",
      "           {'_pos': '6',\n",
      "            '_values': '1',\n",
      "            'label': [{'__text': 'No Device', '_code': 'Z'}],\n",
      "            'title': 'Device'},\n",
      "           {'_pos': '7',\n",
      "            '_values': '1',\n",
      "            'label': [{'__text': 'Cerebral Cisterns', '_code': 'B'}],\n",
      "            'title': 'Qualifier'}]},\n",
      " {'_codes': '45',\n",
      "  'axis': [{'_pos': '4',\n",
      "            '_values': '1',\n",
      "            'label': [{'__text': 'Spinal Canal', '_code': 'U'}],\n",
      "            'title': 'Body Part'},\n",
      "           {'_pos': '5',\n",
      "            '_values': '3',\n",
      "            'label': [{'__text': 'Open', '_code': '0'},\n",
      "                      {'__text': 'Percutaneous', '_code': '3'},\n",
      "                      {'__text': 'Percutaneous Endoscopic', '_code': '4'}],\n",
      "            'title': 'Approach'},\n",
      "           {'_pos': '6',\n",
      "            '_values': '3',\n",
      "            'label': [{'__text': 'Autologous Tissue Substitute', '_code': '7'},\n",
      "                      {'__text': 'Synthetic Substitute', '_code': 'J'},\n",
      "                      {'__text': 'Nonautologous Tissue Substitute',\n",
      "                       '_code': 'K'}],\n",
      "            'title': 'Device'},\n",
      "           {'_pos': '7',\n",
      "            '_values': '5',\n",
      "            'label': [{'__text': 'Atrium', '_code': '2'},\n",
      "                      {'__text': 'Pleural Cavity', '_code': '4'},\n",
      "                      {'__text': 'Peritoneal Cavity', '_code': '6'},\n",
      "                      {'__text': 'Urinary Tract', '_code': '7'},\n",
      "                      {'__text': 'Fallopian Tube', '_code': '9'}],\n",
      "            'title': 'Qualifier'}]}]\n"
     ]
    }
   ],
   "source": [
    "# Exploratory analysis\n",
    "new_structures = []\n",
    "\n",
    "for table in tables:\n",
    "    # This is the first three components of a pcs code (pos 1, 2, 3)\n",
    "    tab = table[\"axis\"]\n",
    "    # This is the rest of the pcs code (pos 4, 5, 6, 7) separated by individual pcs rows\n",
    "    pcsRows = table[\"pcsRow\"]\n",
    "#     for row in pcsRows:\n",
    "#         # This contains all the pcs codes (pos 4, 5, 6, 7) for that pcs row\n",
    "#         codes = row[\"axis\"]\n",
    "#         print(codes.keys())\n",
    "#         # This is a single code representing how many combinations of codes possible in pcsRow\n",
    "#         tab_code = row[\"_codes\"]\n",
    "# #         for code in codes:\n",
    "# #             print(code)\n",
    "    break\n",
    "    \n",
    "\n",
    "# pprint(new_structures)\n",
    "\n",
    "pprint(pcsRows)"
   ]
  },
  {
   "cell_type": "code",
   "execution_count": null,
   "metadata": {},
   "outputs": [],
   "source": []
  }
 ],
 "metadata": {
  "kernelspec": {
   "display_name": "Python 3",
   "language": "python",
   "name": "python3"
  },
  "language_info": {
   "codemirror_mode": {
    "name": "ipython",
    "version": 3
   },
   "file_extension": ".py",
   "mimetype": "text/x-python",
   "name": "python",
   "nbconvert_exporter": "python",
   "pygments_lexer": "ipython3",
   "version": "3.7.6"
  }
 },
 "nbformat": 4,
 "nbformat_minor": 4
}
