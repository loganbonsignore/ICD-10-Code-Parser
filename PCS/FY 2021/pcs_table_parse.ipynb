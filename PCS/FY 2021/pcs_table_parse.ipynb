{
 "cells": [
  {
   "cell_type": "code",
   "execution_count": 5,
   "metadata": {},
   "outputs": [],
   "source": [
    "# Begin query\n",
    "import json\n",
    "from pprint import pprint # Used for debugging\n",
    "\n",
    "# Creating memory allocation to PSC Index json file\n",
    "with open(\"Data/JSON/PCS_Tables.json\") as tables_file:\n",
    "    PCS_tables = json.load(tables_file)\n",
    "    \n",
    "# Aggregating tables into one list\n",
    "tables = [table for table in PCS_tables[\"ICD10PCS.tabular\"][\"pcsTable\"]]"
   ]
  },
  {
   "cell_type": "code",
   "execution_count": 24,
   "metadata": {},
   "outputs": [],
   "source": [
    "class PCS_Table:\n",
    "    def __init__(self):\n",
    "        pass\n",
    "    \n",
    "    def find_table_from_string(self, tab_codes: str) -> dict:\n",
    "        # This method returns an object containing a PCS table whose pos 1,2,3 codes match what is passed as arguement\n",
    "        # This method only works when pos 1,2,3 codes are provided in tab_codes in s\n",
    "        found = False # Flag used to determine if table found\n",
    "        # Ensure all individual codes inside tab_codes are capitalized\n",
    "        tab_codes = tab_codes.upper()\n",
    "        for table in tables:\n",
    "            # Extract pos 1,2,3 codes and join codes together\n",
    "            code = \"\".join((tab_code[\"label\"][0][\"_code\"] for tab_code in table[\"axis\"]))\n",
    "            # Find matching table object\n",
    "            if code == tab_codes:\n",
    "                found = True\n",
    "                return table\n",
    "        # If did not find a match, raise error\n",
    "        if not found:\n",
    "            raise LookupError(f\"Did not find matching table to '{tab_codes}'. Must include code values for pos 1,2,3 of the PCS table you are looking for. Be sure to not mistake a '0', for 'O'.\")\n",
    "    \n",
    "    def search_pcs_row_for_components(self, table: dict or str, query_text: str, category=None) -> dict:\n",
    "        # Search pos 4,5,6,7 to find match to index text\n",
    "        # This function finds only the first pcs component and returns its code\n",
    "        # Get table object if not passed to function as argument\n",
    "        # If argument 'category' passed...\n",
    "        if category:\n",
    "            # Analyze 'table' agruement to convert to table object if needed\n",
    "            if isinstance(table, str):\n",
    "                # If 'table' is passed str, use find_table_from_string()\n",
    "                table = self.find_table_from_string(table)\n",
    "            # If 'table' is passed as dictionary, we will use that as our table object\n",
    "            # Get a list of pcsrow objects\n",
    "            pcsrows = table[\"pcsRow\"]\n",
    "            # Iterate through each pcsrow\n",
    "            for pcsrow in pcsrows:\n",
    "                # Iterate through pos 4,5,6,7 data\n",
    "                for pos in pcsrow[\"axis\"]:\n",
    "                    # 'title', 'label', '_pos', '_values'\n",
    "                    # Narrow search by matching the category text passed as arg\n",
    "                    if pos[\"title\"] == category:\n",
    "                        # Extract 'pos' value\n",
    "                        # NOTE: Can also extract '_values', 'title' key\n",
    "                        pos_value = pos[\"_pos\"]\n",
    "                        # Iterate through each 'label' object\n",
    "                        # Contains '_code', '__text'\n",
    "                        for code in pos[\"label\"]:\n",
    "                            # Find the text and code you are looking for\n",
    "                            if code[\"__text\"] == query_text:\n",
    "                                code_value = code[\"_code\"]\n",
    "                                return {\n",
    "                                    \"code\": code_value,\n",
    "                                    \"text\": query_text,\n",
    "                                    \"pos\": pos_value,\n",
    "                                    \"category\": category,}\n",
    "        else:\n",
    "            # Analyze 'table' agruement to convert to table object if needed\n",
    "            if isinstance(table, str):\n",
    "                # If 'table' is passed str, use find_table_from_string()\n",
    "                table = self.find_table_from_string(table)\n",
    "            # If 'table' is passed as dictionary, we will use that as our table object\n",
    "            # Get a list of pcsrow objects\n",
    "            pcsrows = table[\"pcsRow\"]\n",
    "            # Iterating through each full pcsrow\n",
    "            for pcsrow in pcsrows:\n",
    "                # Iterate through pos 4,5,6,7 data\n",
    "                for pos in pcsrow[\"axis\"]:\n",
    "                    # 'title', 'label', '_pos', '_values'\n",
    "                    # Extract 'category' value\n",
    "                    category = pos[\"title\"]\n",
    "                    # Extract 'pos' value\n",
    "                    # NOTE: Can also extract '_values' key\n",
    "                    pos_value = pos[\"_pos\"]\n",
    "                    # Iterating through pos 4,5,6,7 data to find 'text' that matches query_text arg\n",
    "                    # Iterating through codes available for use in this position\n",
    "                    for code in pos[\"label\"]:\n",
    "                        # Check to see if found match to text passed as agruement \n",
    "                        if code[\"__text\"] == query_text:\n",
    "                            return {\n",
    "                                \"code\": code[\"_code\"],\n",
    "                                \"text\": query_text,\n",
    "                                \"pos\": pos[\"_pos\"],\n",
    "                                \"category\": category,}"
   ]
  },
  {
   "cell_type": "markdown",
   "metadata": {},
   "source": [
    "### Notes\n",
    "\n",
    "* \"axis\" and \"pcsRow\" keys contain lists of code, text and definitions\n",
    "\n",
    "* Table \"axis\" keys return two key structures\n",
    "    * {\"title\", \"label\", \"_pos\", \"_values\"}\n",
    "    * {\"title\", \"label\", \"definition\", \"_pos\", \"_values\"}\n",
    "* \"pcsRow\" keys return _ key structures\n",
    "    * "
   ]
  },
  {
   "cell_type": "code",
   "execution_count": 25,
   "metadata": {},
   "outputs": [],
   "source": [
    "# Return table object\n",
    "table_query_tool = PCS_Table()\n",
    "test_table = table_query_tool.find_table_from_string(\"3E0\")"
   ]
  },
  {
   "cell_type": "code",
   "execution_count": 26,
   "metadata": {},
   "outputs": [],
   "source": [
    "# query_tool.search_pcs_rows(test_table, \"Approach\", \"Open\")\n",
    "test = table_query_tool.search_pcs_row_for_components(test_table, \"Hormone\")"
   ]
  },
  {
   "cell_type": "code",
   "execution_count": 27,
   "metadata": {},
   "outputs": [
    {
     "name": "stdout",
     "output_type": "stream",
     "text": [
      "{'category': 'Substance', 'code': 'V', 'pos': '6', 'text': 'Hormone'}\n"
     ]
    }
   ],
   "source": [
    "pprint(test)"
   ]
  },
  {
   "cell_type": "code",
   "execution_count": null,
   "metadata": {},
   "outputs": [],
   "source": []
  },
  {
   "cell_type": "code",
   "execution_count": null,
   "metadata": {},
   "outputs": [],
   "source": []
  },
  {
   "cell_type": "code",
   "execution_count": null,
   "metadata": {},
   "outputs": [],
   "source": []
  },
  {
   "cell_type": "code",
   "execution_count": null,
   "metadata": {},
   "outputs": [],
   "source": []
  },
  {
   "cell_type": "code",
   "execution_count": 53,
   "metadata": {},
   "outputs": [
    {
     "name": "stdout",
     "output_type": "stream",
     "text": [
      "[('0', 'Medical and Surgical'),\n",
      " ('1', 'Obstetrics'),\n",
      " ('2', 'Placement'),\n",
      " ('3', 'Administration'),\n",
      " ('4', 'Measurement and Monitoring'),\n",
      " ('5', 'Extracorporeal or Systemic Assistance and Performance'),\n",
      " ('6', 'Extracorporeal or Systemic Therapies'),\n",
      " ('7', 'Osteopathic'),\n",
      " ('8', 'Other Procedures'),\n",
      " ('9', 'Chiropractic'),\n",
      " ('B', 'Imaging'),\n",
      " ('C', 'Nuclear Medicine'),\n",
      " ('D', 'Radiation Therapy'),\n",
      " ('F', 'Physical Rehabilitation and Diagnostic Audiology'),\n",
      " ('G', 'Mental Health'),\n",
      " ('H', 'Substance Abuse Treatment'),\n",
      " ('X', 'New Technology')]\n"
     ]
    }
   ],
   "source": [
    "# return all sections (pos 1 codes)\n",
    "# Using set to avoid duplicates\n",
    "pos_1_codes = {(table[\"axis\"][0][\"label\"][0][\"_code\"], table[\"axis\"][0][\"label\"][0][\"__text\"]) for table in tables}\n",
    "pos_1_codes = sorted(list(pos_1_codes))\n",
    "pprint(pos_1_codes)\n",
    "# Ask user to choose what they want to move forward\n",
    "# user_input = input(\"What section do you need? :\")"
   ]
  },
  {
   "cell_type": "code",
   "execution_count": 66,
   "metadata": {},
   "outputs": [
    {
     "name": "stdout",
     "output_type": "stream",
     "text": [
      "[('00', 'Central Nervous System and Cranial Nerves'),\n",
      " ('01', 'Peripheral Nervous System'),\n",
      " ('02', 'Heart and Great Vessels'),\n",
      " ('03', 'Upper Arteries'),\n",
      " ('04', 'Lower Arteries'),\n",
      " ('05', 'Upper Veins'),\n",
      " ('06', 'Lower Veins'),\n",
      " ('07', 'Lymphatic and Hemic Systems'),\n",
      " ('08', 'Eye'),\n",
      " ('09', 'Ear, Nose, Sinus'),\n",
      " ('0B', 'Respiratory System'),\n",
      " ('0C', 'Mouth and Throat'),\n",
      " ('0D', 'Gastrointestinal System'),\n",
      " ('0F', 'Hepatobiliary System and Pancreas'),\n",
      " ('0G', 'Endocrine System'),\n",
      " ('0H', 'Skin and Breast'),\n",
      " ('0J', 'Subcutaneous Tissue and Fascia'),\n",
      " ('0K', 'Muscles'),\n",
      " ('0L', 'Tendons'),\n",
      " ('0M', 'Bursae and Ligaments'),\n",
      " ('0N', 'Head and Facial Bones'),\n",
      " ('0P', 'Upper Bones'),\n",
      " ('0Q', 'Lower Bones'),\n",
      " ('0R', 'Upper Joints'),\n",
      " ('0S', 'Lower Joints'),\n",
      " ('0T', 'Urinary System'),\n",
      " ('0U', 'Female Reproductive System'),\n",
      " ('0V', 'Male Reproductive System'),\n",
      " ('0W', 'Anatomical Regions, General'),\n",
      " ('0X', 'Anatomical Regions, Upper Extremities'),\n",
      " ('0Y', 'Anatomical Regions, Lower Extremities')]\n"
     ]
    }
   ],
   "source": [
    "# Hard coded for testing\n",
    "user_input = \"Medical and Surgical\"\n",
    "\n",
    "# Find code that goes with user choice of pos 1 code\n",
    "for tup in pos_1_codes:\n",
    "    if tup[1] == user_input:\n",
    "        user_pos_1_code = tup[0]\n",
    "        break\n",
    "        \n",
    "# Re-query data to find all available pos 2 codes/text\n",
    "pos_2_codes = {(f\"{user_pos_1_code}{table['axis'][1]['label'][0]['_code']}\", table[\"axis\"][1][\"label\"][0][\"__text\"])\n",
    "                for table in tables\n",
    "                if table[\"axis\"][0][\"label\"][0][\"_code\"] == user_pos_1_code}\n",
    "pos_2_codes = sorted(list(pos_2_codes))\n",
    "pprint(pos_2_codes)\n",
    "# Ask user to choose what they want to move forward\n",
    "# user_input = input(\"What section do you need? :\")"
   ]
  },
  {
   "cell_type": "markdown",
   "metadata": {},
   "source": [
    "* Pass any set of codes and text returned by an index query to 'go-to' table execution function\n",
    "* Return object where they need to be in table\n"
   ]
  }
 ],
 "metadata": {
  "kernelspec": {
   "display_name": "Python 3",
   "language": "python",
   "name": "python3"
  },
  "language_info": {
   "codemirror_mode": {
    "name": "ipython",
    "version": 3
   },
   "file_extension": ".py",
   "mimetype": "text/x-python",
   "name": "python",
   "nbconvert_exporter": "python",
   "pygments_lexer": "ipython3",
   "version": "3.7.6"
  }
 },
 "nbformat": 4,
 "nbformat_minor": 4
}
