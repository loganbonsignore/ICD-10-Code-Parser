{
 "cells": [
  {
   "cell_type": "code",
   "execution_count": 1,
   "metadata": {},
   "outputs": [],
   "source": [
    "import xml.etree.ElementTree as ET\n",
    "from pprint import pprint"
   ]
  },
  {
   "cell_type": "code",
   "execution_count": 2,
   "metadata": {},
   "outputs": [],
   "source": [
    "class Parser:\n",
    "    def __init__(self, file_path):\n",
    "        self.root = ET.parse(file_path).getroot() # https://docs.python.org/3/library/xml.etree.elementtree.html\n",
    "        \n",
    "    def extract_axis(self, elem) -> dict:\n",
    "        data = {\"code_elements\":[]}\n",
    "        data[\"pos\"], data[\"value\"] = elem.attrib.values()\n",
    "        for child in elem:\n",
    "            if child.tag == \"title\":\n",
    "                data[\"category\"] = child.text\n",
    "            if child.tag == \"definition\":\n",
    "                data[\"definition\"] = child.text\n",
    "            if child.tag == \"label\":\n",
    "                data[\"code_elements\"].append({\n",
    "                    \"code\":child.attrib[\"code\"],\n",
    "                    \"code_desc\":child.text,\n",
    "                })\n",
    "        return data"
   ]
  },
  {
   "cell_type": "code",
   "execution_count": 3,
   "metadata": {},
   "outputs": [
    {
     "name": "stdout",
     "output_type": "stream",
     "text": [
      "Total Number of pcsTables: 890\n"
     ]
    }
   ],
   "source": [
    "# Extracting PCS Tables from XML document\n",
    "# Each table is loaded as a 'block' to pcsTable_blocks\n",
    "parser = Parser(\"Data/XML/icd10pcs_tables_2021.xml\")\n",
    "pcsTable_blocks = []\n",
    "\n",
    "for pcsTable in parser.root:\n",
    "    data_block = {\"constants\":[], \"variables\":[]}\n",
    "    for elem in pcsTable:\n",
    "        if elem.tag == \"axis\":\n",
    "            data = parser.extract_axis(elem)\n",
    "            data_block[\"constants\"].append(data)\n",
    "        if elem.tag == \"pcsRow\":\n",
    "            pcsRow_data = {}\n",
    "            pcsRow_data[\"num_codes\"] = elem.attrib[\"codes\"]\n",
    "            pcsRow_data[\"codes\"] = [parser.extract_axis(axis) for axis in elem]\n",
    "            data_block[\"variables\"].append(pcsRow_data)\n",
    "    pcsTable_blocks.append(data_block)\n",
    "    \n",
    "print(f\"Total Number of pcsTables: {len(pcsTable_blocks)-2}\") #'version', 'title' tags"
   ]
  },
  {
   "cell_type": "code",
   "execution_count": 4,
   "metadata": {
    "scrolled": false
   },
   "outputs": [
    {
     "name": "stdout",
     "output_type": "stream",
     "text": [
      "{'constants': [{'category': 'Section',\n",
      "                'code_elements': [{'code': '0',\n",
      "                                   'code_desc': 'Medical and Surgical'}],\n",
      "                'pos': '1',\n",
      "                'value': '1'},\n",
      "               {'category': 'Body System',\n",
      "                'code_elements': [{'code': '0',\n",
      "                                   'code_desc': 'Central Nervous System and '\n",
      "                                                'Cranial Nerves'}],\n",
      "                'pos': '2',\n",
      "                'value': '1'},\n",
      "               {'category': 'Operation',\n",
      "                'code_elements': [{'code': '1', 'code_desc': 'Bypass'}],\n",
      "                'definition': 'Altering the route of passage of the contents '\n",
      "                              'of a tubular body part',\n",
      "                'pos': '3',\n",
      "                'value': '1'}],\n",
      " 'variables': [{'codes': [{'category': 'Body Part',\n",
      "                           'code_elements': [{'code': '6',\n",
      "                                              'code_desc': 'Cerebral '\n",
      "                                                           'Ventricle'}],\n",
      "                           'pos': '4',\n",
      "                           'value': '1'},\n",
      "                          {'category': 'Approach',\n",
      "                           'code_elements': [{'code': '0', 'code_desc': 'Open'},\n",
      "                                             {'code': '3',\n",
      "                                              'code_desc': 'Percutaneous'},\n",
      "                                             {'code': '4',\n",
      "                                              'code_desc': 'Percutaneous '\n",
      "                                                           'Endoscopic'}],\n",
      "                           'pos': '5',\n",
      "                           'value': '3'},\n",
      "                          {'category': 'Device',\n",
      "                           'code_elements': [{'code': '7',\n",
      "                                              'code_desc': 'Autologous Tissue '\n",
      "                                                           'Substitute'},\n",
      "                                             {'code': 'J',\n",
      "                                              'code_desc': 'Synthetic '\n",
      "                                                           'Substitute'},\n",
      "                                             {'code': 'K',\n",
      "                                              'code_desc': 'Nonautologous '\n",
      "                                                           'Tissue '\n",
      "                                                           'Substitute'}],\n",
      "                           'pos': '6',\n",
      "                           'value': '3'},\n",
      "                          {'category': 'Qualifier',\n",
      "                           'code_elements': [{'code': '0',\n",
      "                                              'code_desc': 'Nasopharynx'},\n",
      "                                             {'code': '1',\n",
      "                                              'code_desc': 'Mastoid Sinus'},\n",
      "                                             {'code': '2',\n",
      "                                              'code_desc': 'Atrium'},\n",
      "                                             {'code': '3',\n",
      "                                              'code_desc': 'Blood Vessel'},\n",
      "                                             {'code': '4',\n",
      "                                              'code_desc': 'Pleural Cavity'},\n",
      "                                             {'code': '5',\n",
      "                                              'code_desc': 'Intestine'},\n",
      "                                             {'code': '6',\n",
      "                                              'code_desc': 'Peritoneal Cavity'},\n",
      "                                             {'code': '7',\n",
      "                                              'code_desc': 'Urinary Tract'},\n",
      "                                             {'code': '8',\n",
      "                                              'code_desc': 'Bone Marrow'},\n",
      "                                             {'code': 'A',\n",
      "                                              'code_desc': 'Subgaleal Space'},\n",
      "                                             {'code': 'B',\n",
      "                                              'code_desc': 'Cerebral '\n",
      "                                                           'Cisterns'}],\n",
      "                           'pos': '7',\n",
      "                           'value': '11'}],\n",
      "                'num_codes': '99'},\n",
      "               {'codes': [{'category': 'Body Part',\n",
      "                           'code_elements': [{'code': '6',\n",
      "                                              'code_desc': 'Cerebral '\n",
      "                                                           'Ventricle'}],\n",
      "                           'pos': '4',\n",
      "                           'value': '1'},\n",
      "                          {'category': 'Approach',\n",
      "                           'code_elements': [{'code': '0', 'code_desc': 'Open'},\n",
      "                                             {'code': '3',\n",
      "                                              'code_desc': 'Percutaneous'},\n",
      "                                             {'code': '4',\n",
      "                                              'code_desc': 'Percutaneous '\n",
      "                                                           'Endoscopic'}],\n",
      "                           'pos': '5',\n",
      "                           'value': '3'},\n",
      "                          {'category': 'Device',\n",
      "                           'code_elements': [{'code': 'Z',\n",
      "                                              'code_desc': 'No Device'}],\n",
      "                           'pos': '6',\n",
      "                           'value': '1'},\n",
      "                          {'category': 'Qualifier',\n",
      "                           'code_elements': [{'code': 'B',\n",
      "                                              'code_desc': 'Cerebral '\n",
      "                                                           'Cisterns'}],\n",
      "                           'pos': '7',\n",
      "                           'value': '1'}],\n",
      "                'num_codes': '3'},\n",
      "               {'codes': [{'category': 'Body Part',\n",
      "                           'code_elements': [{'code': 'U',\n",
      "                                              'code_desc': 'Spinal Canal'}],\n",
      "                           'pos': '4',\n",
      "                           'value': '1'},\n",
      "                          {'category': 'Approach',\n",
      "                           'code_elements': [{'code': '0', 'code_desc': 'Open'},\n",
      "                                             {'code': '3',\n",
      "                                              'code_desc': 'Percutaneous'},\n",
      "                                             {'code': '4',\n",
      "                                              'code_desc': 'Percutaneous '\n",
      "                                                           'Endoscopic'}],\n",
      "                           'pos': '5',\n",
      "                           'value': '3'},\n",
      "                          {'category': 'Device',\n",
      "                           'code_elements': [{'code': '7',\n",
      "                                              'code_desc': 'Autologous Tissue '\n",
      "                                                           'Substitute'},\n",
      "                                             {'code': 'J',\n",
      "                                              'code_desc': 'Synthetic '\n",
      "                                                           'Substitute'},\n",
      "                                             {'code': 'K',\n",
      "                                              'code_desc': 'Nonautologous '\n",
      "                                                           'Tissue '\n",
      "                                                           'Substitute'}],\n",
      "                           'pos': '6',\n",
      "                           'value': '3'},\n",
      "                          {'category': 'Qualifier',\n",
      "                           'code_elements': [{'code': '2',\n",
      "                                              'code_desc': 'Atrium'},\n",
      "                                             {'code': '4',\n",
      "                                              'code_desc': 'Pleural Cavity'},\n",
      "                                             {'code': '6',\n",
      "                                              'code_desc': 'Peritoneal Cavity'},\n",
      "                                             {'code': '7',\n",
      "                                              'code_desc': 'Urinary Tract'},\n",
      "                                             {'code': '9',\n",
      "                                              'code_desc': 'Fallopian Tube'}],\n",
      "                           'pos': '7',\n",
      "                           'value': '5'}],\n",
      "                'num_codes': '45'}]}\n"
     ]
    }
   ],
   "source": [
    "# Display of data extracted from XML document\n",
    "pprint(pcsTable_blocks[2])"
   ]
  },
  {
   "cell_type": "code",
   "execution_count": 5,
   "metadata": {},
   "outputs": [],
   "source": [
    "# Calculating all possible code combinations\n",
    "master_code_list = []\n",
    "for block in pcsTable_blocks:\n",
    "    const = \"\".join([\n",
    "        code[\"code\"]\n",
    "        for pcs_dict in block[\"constants\"]\n",
    "        for code in pcs_dict[\"code_elements\"]\n",
    "    ])\n",
    "    for pcsRow in block[\"variables\"]:\n",
    "        num_codes = pcsRow[\"num_codes\"]\n",
    "        code_list = [\n",
    "            f\"{const}{pos4['code']}{pos5['code']}{pos6['code']}{pos7['code']}\"\n",
    "            for pos4 in pcsRow[\"codes\"][0][\"code_elements\"]\n",
    "            for pos5 in pcsRow[\"codes\"][1][\"code_elements\"]\n",
    "            for pos6 in pcsRow[\"codes\"][2][\"code_elements\"]  \n",
    "            for pos7 in pcsRow[\"codes\"][3][\"code_elements\"]\n",
    "        ]\n",
    "        assert len(code_list) == int(num_codes), f\"Number of codes found, {len(code_list)}, does not match given code length, {num_codes}.\"\n",
    "        master_code_list.append(code_list)"
   ]
  },
  {
   "cell_type": "markdown",
   "metadata": {},
   "source": [
    "#### Check to see if total number of calculated code combinations matches total number of possible PCS code combinations\n",
    "- Source of total possible code combinations: https://www.google.com/search?rlz=1C5CHFA_enUS898US898&sxsrf=ALeKk01VsbFSOPbgnJIEVNeEFkd6xMthQQ%3A1615676381831&ei=3UNNYI-RMsS3tQaJxqjgCg&q=how+many+total+pcs+codes+are+there&oq=how+many+total+pcs+codes+are+there&gs_lcp=Cgdnd3Mtd2l6EAMyBAgjECcyBAgjECc6BwgAEEcQsANQtjxYi0Bgu0JoAXACeACAAZEBiAHlA5IBAzUuMZgBAKABAaoBB2d3cy13aXrIAQjAAQE&sclient=gws-wiz&ved=0ahUKEwjP873Gr67vAhXEW80KHQkjCqwQ4dUDCA0&uact=5\n",
    "- Assumes using FY 2020 PCS codes"
   ]
  },
  {
   "cell_type": "code",
   "execution_count": 6,
   "metadata": {},
   "outputs": [
    {
     "name": "stdout",
     "output_type": "stream",
     "text": [
      "78136\n"
     ]
    }
   ],
   "source": [
    "# Total number of calculated code combinations\n",
    "count = 0\n",
    "for code_list in master_code_list:\n",
    "    count += len(code_list) \n",
    "print(count)"
   ]
  },
  {
   "cell_type": "code",
   "execution_count": 7,
   "metadata": {},
   "outputs": [
    {
     "name": "stdout",
     "output_type": "stream",
     "text": [
      "['0016070', '0016071', '0016072', '0016073', '0016074', '0016075', '0016076', '0016077', '0016078', '001607A', '001607B', '00160J0', '00160J1', '00160J2', '00160J3', '00160J4', '00160J5', '00160J6', '00160J7', '00160J8', '00160JA', '00160JB', '00160K0', '00160K1', '00160K2', '00160K3', '00160K4', '00160K5', '00160K6', '00160K7', '00160K8', '00160KA', '00160KB', '0016370', '0016371', '0016372', '0016373', '0016374', '0016375', '0016376', '0016377', '0016378', '001637A', '001637B', '00163J0', '00163J1', '00163J2', '00163J3', '00163J4', '00163J5', '00163J6', '00163J7', '00163J8', '00163JA', '00163JB', '00163K0', '00163K1', '00163K2', '00163K3', '00163K4', '00163K5', '00163K6', '00163K7', '00163K8', '00163KA', '00163KB', '0016470', '0016471', '0016472', '0016473', '0016474', '0016475', '0016476', '0016477', '0016478', '001647A', '001647B', '00164J0', '00164J1', '00164J2', '00164J3', '00164J4', '00164J5', '00164J6', '00164J7', '00164J8', '00164JA', '00164JB', '00164K0', '00164K1', '00164K2', '00164K3', '00164K4', '00164K5', '00164K6', '00164K7', '00164K8', '00164KA', '00164KB']\n"
     ]
    }
   ],
   "source": [
    "# Calculated code combinations from the first pcsTable in the XML document\n",
    "# Use to visually compare with XML document\n",
    "print(master_code_list[0])"
   ]
  },
  {
   "cell_type": "code",
   "execution_count": null,
   "metadata": {},
   "outputs": [],
   "source": []
  }
 ],
 "metadata": {
  "kernelspec": {
   "display_name": "Python 3",
   "language": "python",
   "name": "python3"
  },
  "language_info": {
   "codemirror_mode": {
    "name": "ipython",
    "version": 3
   },
   "file_extension": ".py",
   "mimetype": "text/x-python",
   "name": "python",
   "nbconvert_exporter": "python",
   "pygments_lexer": "ipython3",
   "version": "3.7.6"
  }
 },
 "nbformat": 4,
 "nbformat_minor": 4
}
